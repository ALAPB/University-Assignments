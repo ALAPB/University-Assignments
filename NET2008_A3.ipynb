{
 "cells": [
  {
   "cell_type": "markdown",
   "metadata": {},
   "source": [
    "# NET2008 - DevOps Assignment 3"
   ]
  },
  {
   "cell_type": "markdown",
   "metadata": {},
   "source": [
    "## Question 1: SPY GAME (15%)\n",
    "Write a function that takes in a list of integers and returns True if it contains 007 in order\n",
    "```\n",
    "spy_game([1,2,4,0,0,7,5]) --> True\n",
    "spy_game([1,0,2,4,0,5,7]) --> True\n",
    "spy_game([1,7,2,0,4,5,0]) --> False\n",
    "```"
   ]
  },
  {
   "cell_type": "code",
   "execution_count": null,
   "metadata": {},
   "outputs": [],
   "source": [
    "#I feel like using reduce for this, so i'm importing it\n",
    "from functools import reduce\n",
    "\n",
    "def spy_game(nums):\n",
    "    \n",
    "    #Using reduce to put all of the numbers as a single string\n",
    "    num_string = str(reduce(lambda x, y: x * 10 + y, nums))\n",
    "    \n",
    "    if \"007\" in num_string:\n",
    "        return True\n",
    "    else:\n",
    "        return False"
   ]
  },
  {
   "cell_type": "code",
   "execution_count": null,
   "metadata": {},
   "outputs": [],
   "source": [
    "# Check\n",
    "spy_game([1,2,4,0,0,7,5])"
   ]
  },
  {
   "cell_type": "code",
   "execution_count": null,
   "metadata": {},
   "outputs": [],
   "source": [
    "# Check\n",
    "spy_game([1,0,2,4,0,5,7])"
   ]
  },
  {
   "cell_type": "code",
   "execution_count": null,
   "metadata": {},
   "outputs": [],
   "source": [
    "# Check\n",
    "spy_game([1,7,2,0,4,5,0])"
   ]
  },
  {
   "cell_type": "markdown",
   "metadata": {},
   "source": [
    "## Question 2: COUNT PRIMES (15%)\n",
    "\n",
    "Write a function that returns the *number* of prime numbers that exist up to and including a given number\n",
    "```\n",
    "count_primes(100) --> 25\n",
    "```\n",
    "By convention, 0 and 1 are not prime."
   ]
  },
  {
   "cell_type": "code",
   "execution_count": null,
   "metadata": {},
   "outputs": [],
   "source": [
    "def count_primes(num):\n",
    "    \n",
    "    #Variable used to store and return the number of prime numbers\n",
    "    num_prime = 0\n",
    "    \n",
    "    #Variable used to indicate whether a number is a prime\n",
    "    is_prime = False\n",
    "    \n",
    "    #Outer loop to cycle through the list of numbers\n",
    "    for i in range(2, num + 1):\n",
    "        \n",
    "        is_prime = True\n",
    "        \n",
    "        #Inner loop to check if the number is prime\n",
    "        for j in range (2, i):\n",
    "            \n",
    "            if i % j == 0:\n",
    "                is_prime = False\n",
    "                break\n",
    "    \n",
    "        if is_prime:\n",
    "            num_prime +=1\n",
    "    \n",
    "    return num_prime"
   ]
  },
  {
   "cell_type": "code",
   "execution_count": null,
   "metadata": {},
   "outputs": [],
   "source": [
    "# Check\n",
    "count_primes(100)"
   ]
  },
  {
   "cell_type": "markdown",
   "metadata": {},
   "source": [
    "## Question 3: Blackjack Game (70%)\n",
    "Below is a set of steps for you to follow to try to create the Blackjack Game!"
   ]
  },
  {
   "cell_type": "markdown",
   "metadata": {},
   "source": [
    "### Game Play\n",
    "To play a hand of Blackjack the following steps must be followed:\n",
    "1. Create a deck of 52 cards\n",
    "2. Shuffle the deck\n",
    "3. Ask the Player for their bet\n",
    "4. Make sure that the Player's bet does not exceed their available chips\n",
    "5. Deal two cards to the Dealer and two cards to the Player\n",
    "6. Show only one of the Dealer's cards, the other remains hidden\n",
    "7. Show both of the Player's cards\n",
    "8. Ask the Player if they wish to Hit, and take another card\n",
    "9. If the Player's hand doesn't Bust (go over 21), ask if they'd like to Hit again.\n",
    "10. If a Player Stands, play the Dealer's hand. The dealer will always Hit until the Dealer's value meets or exceeds 17\n",
    "11. Determine the winner and adjust the Player's chips accordingly\n",
    "12. Ask the Player if they'd like to play again"
   ]
  },
  {
   "cell_type": "markdown",
   "metadata": {},
   "source": [
    "### Playing Cards\n",
    "A standard deck of playing cards has four suits (Hearts, Diamonds, Spades and Clubs) and thirteen ranks (2 through 10, then the face cards Jack, Queen, King and Ace) for a total of 52 cards per deck. Jacks, Queens and Kings all have a rank of 10. Aces have a rank of either 11 or 1 as needed to reach 21 without busting. As a starting point in your program, you may want to assign variables to store a list of suits, ranks, and then use a dictionary to map ranks to values."
   ]
  },
  {
   "cell_type": "markdown",
   "metadata": {},
   "source": [
    "### The Game\n",
    "#### Imports and Global Variables\n",
    "**Step 1: Import the random module. This will be used to shuffle the deck prior to dealing. Then, declare variables to store suits, ranks and values. You can develop your own system, or copy ours below. Finally, declare a Boolean value to be used to control <code>while</code> loops. This is a common practice used to control the flow of the game.**\n",
    "\n",
    "    suits = ('Hearts', 'Diamonds', 'Spades', 'Clubs')\n",
    "    ranks = ('Two', 'Three', 'Four', 'Five', 'Six', 'Seven', 'Eight', 'Nine', 'Ten', 'Jack', 'Queen', 'King', 'Ace')\n",
    "    values = {'Two':2, 'Three':3, 'Four':4, 'Five':5, 'Six':6, 'Seven':7, 'Eight':8, 'Nine':9, 'Ten':10, 'Jack':10,\n",
    "             'Queen':10, 'King':10, 'Ace':11}"
   ]
  },
  {
   "cell_type": "code",
   "execution_count": null,
   "metadata": {},
   "outputs": [],
   "source": [
    "import random\n",
    "\n",
    "#Just using the provided code to keep things simple\n",
    "suits = ('Hearts', 'Diamonds', 'Spades', 'Clubs')\n",
    "ranks = ('Two', 'Three', 'Four', 'Five', 'Six', 'Seven', 'Eight', 'Nine', 'Ten', 'Jack', 'Queen', 'King', 'Ace')\n",
    "values = {'Two':2, 'Three':3, 'Four':4, 'Five':5, 'Six':6, 'Seven':7, 'Eight':8, 'Nine':9, 'Ten':10, 'Jack':10, 'Queen':10, 'King':10, 'Ace':11}"
   ]
  },
  {
   "cell_type": "markdown",
   "metadata": {},
   "source": [
    "#### Class Definitions\n",
    "Consider making a Card class where each Card object has a suit and a rank, then a Deck class to hold all 52 Card objects, and can be shuffled, and finally a Hand class that holds those Cards that have been dealt to each player from the Deck."
   ]
  },
  {
   "cell_type": "markdown",
   "metadata": {},
   "source": [
    "**Step 2: Create a Card Class**<br>\n",
    "A Card object really only needs two attributes: suit and rank. You might add an attribute for \"value\" - we chose to handle value later when developing our Hand class.<br>In addition to the Card's \\_\\_init\\_\\_ method, consider adding a \\_\\_str\\_\\_ method that, when asked to print a Card, returns a string in the form \"Two of Hearts\""
   ]
  },
  {
   "cell_type": "code",
   "execution_count": null,
   "metadata": {},
   "outputs": [],
   "source": [
    "class Card:\n",
    "    \n",
    "    def __init__(self, rank, suit, value):\n",
    "        self.rank = rank\n",
    "        self.suit = suit\n",
    "        self.value = value\n",
    "    \n",
    "    def __str__(self):\n",
    "        return (f\"{self.rank} of {self.suit}\")"
   ]
  },
  {
   "cell_type": "markdown",
   "metadata": {},
   "source": [
    "**Step 3: Create a Deck Class**<br>\n",
    "Here we might store 52 card objects in a list that can later be shuffled. First, though, we need to *instantiate* all 52 unique card objects and add them to our list. So long as the Card class definition appears in our code, we can build Card objects inside our Deck \\_\\_init\\_\\_ method. Consider iterating over sequences of suits and ranks to build out each card. This might appear inside a Deck class \\_\\_init\\_\\_ method:\n",
    "\n",
    "    for suit in suits:\n",
    "        for rank in ranks:\n",
    "\n",
    "In addition to an \\_\\_init\\_\\_ method we'll want to add methods to shuffle our deck, and to deal out cards during gameplay.<br><br>\n",
    "OPTIONAL: We may never need to print the contents of the deck during gameplay, but having the ability to see the cards inside it may help troubleshoot any problems that occur during development. With this in mind, consider adding a \\_\\_str\\_\\_ method to the class definition."
   ]
  },
  {
   "cell_type": "code",
   "execution_count": null,
   "metadata": {},
   "outputs": [],
   "source": [
    "class Deck:\n",
    "    \n",
    "    def __init__(self):\n",
    "        self.deck = []  # start with an empty list\n",
    "        for suit in suits:\n",
    "            for rank in ranks:\n",
    "                self.deck.append(Card(rank, suit, values[rank]))\n",
    "        \n",
    "        #Variable used to remember dealt cards\n",
    "        self.next_card = 0\n",
    "        \n",
    "    def __str__(self):\n",
    "        \n",
    "        for i in range(52):\n",
    "            print(self.deck[i])\n",
    "\n",
    "        return \"Done!\"\n",
    "    \n",
    "    def shuffle(self):\n",
    "        random.shuffle(self.deck)\n",
    "        \n",
    "    def deal(self):\n",
    "        if self.next_card < 52:\n",
    "            self.next_card += 1\n",
    "            return self.deck[self.next_card - 1]\n",
    "        else:\n",
    "            print(\"There are no more cards in the deck!\")\n",
    "        "
   ]
  },
  {
   "cell_type": "markdown",
   "metadata": {},
   "source": [
    "TESTING: Just to see that everything works so far, let's see what our Deck looks like!"
   ]
  },
  {
   "cell_type": "code",
   "execution_count": null,
   "metadata": {},
   "outputs": [],
   "source": [
    "test_deck = Deck()\n",
    "print(test_deck)"
   ]
  },
  {
   "cell_type": "markdown",
   "metadata": {},
   "source": [
    "Great! Now let's move on to our Hand class."
   ]
  },
  {
   "cell_type": "markdown",
   "metadata": {},
   "source": [
    "**Step 4: Create a Hand Class**<br>\n",
    "In addition to holding Card objects dealt from the Deck, the Hand class may be used to calculate the value of those cards using the values dictionary defined above. It may also need to adjust for the value of Aces when appropriate."
   ]
  },
  {
   "cell_type": "code",
   "execution_count": null,
   "metadata": {},
   "outputs": [],
   "source": [
    "class Hand:\n",
    "    def __init__(self):\n",
    "        self.cards = []  # start with an empty list as we did in the Deck class\n",
    "        self.value = 0   # start with zero value\n",
    "        self.aces = 0    # add an attribute to keep track of aces\n",
    "    \n",
    "    #Adds a card to the player's hand\n",
    "    def add_card(self,card):\n",
    "        self.cards.append(card)\n",
    "        self.value += self.cards[-1].value\n",
    "        if card.rank == \"Ace\":\n",
    "            self.aces += 1\n",
    "    \n",
    "    #Subtracts 10 if the hand's value is over 21 and there's an ace in the hand\n",
    "    def adjust_for_ace(self):\n",
    "        if self.aces > 0 and self.value > 21:\n",
    "            self.value -= 10\n",
    "            self.aces -= 1"
   ]
  },
  {
   "cell_type": "markdown",
   "metadata": {},
   "source": [
    "**Step 5: Create a Chips Class**<br>\n",
    "In addition to decks of cards and hands, we need to keep track of a Player's starting chips, bets, and ongoing winnings. This could be done using global variables, but in the spirit of object oriented programming, let's make a Chips class instead!"
   ]
  },
  {
   "cell_type": "code",
   "execution_count": null,
   "metadata": {},
   "outputs": [],
   "source": [
    "class Chips:\n",
    "    \n",
    "    def __init__(self, chips):\n",
    "        self.total = chips #100 by default at the start of the game\n",
    "        self.bet = 0\n",
    "        \n",
    "    def win_bet(self):\n",
    "        self.total += self.bet\n",
    "        self.bet = 0\n",
    "    \n",
    "    def lose_bet(self):\n",
    "        self.total -= self.bet\n",
    "        self.bet = 0"
   ]
  },
  {
   "cell_type": "markdown",
   "metadata": {},
   "source": [
    "#### Function Defintions\n",
    "A lot of steps are going to be repetitive. That's where functions come in! The following steps are guidelines - add or remove functions as needed in your own program."
   ]
  },
  {
   "cell_type": "markdown",
   "metadata": {},
   "source": [
    "**Step 6: Write a function for taking bets**<br>\n",
    "Since we're asking the user for an integer value, this would be a good place to use <code>try</code>/<code>except</code>. Remember to check that a Player's bet can be covered by their available chips."
   ]
  },
  {
   "cell_type": "code",
   "execution_count": null,
   "metadata": {},
   "outputs": [],
   "source": [
    "def take_bet(player_chips):\n",
    "    \n",
    "    print(f\"The player currently has {player_chips.total} chips.\")\n",
    "    \n",
    "    while True:\n",
    "        try:\n",
    "            desired_bet = int(input(\"Please enter the amount of chips you would like to bet: \"))\n",
    "        except:\n",
    "            print(\"The bet entered is invalid!\")\n",
    "            continue\n",
    "        else:\n",
    "            if player_chips.total < desired_bet:\n",
    "                print(\"You don't have enough chips for that bet!\")\n",
    "                continue\n",
    "            else:\n",
    "                player_chips.bet = desired_bet\n",
    "                break"
   ]
  },
  {
   "cell_type": "markdown",
   "metadata": {},
   "source": [
    "**Step 7: Write a function for taking hits**<br>\n",
    "Either player can take hits until they bust. This function will be called during gameplay anytime a Player requests a hit, or a Dealer's hand is less than 17. It should take in Deck and Hand objects as arguments, and deal one card off the deck and add it to the Hand. You may want it to check for aces in the event that a player's hand exceeds 21."
   ]
  },
  {
   "cell_type": "code",
   "execution_count": null,
   "metadata": {},
   "outputs": [],
   "source": [
    "def hit(deck,hand):\n",
    "    \n",
    "    #Adding a card, and adjusting the value of the player hand if the player has an ace, and goes over 21\n",
    "    hand.cards.append(deck.deal())\n",
    "    hand.value += hand.cards[-1].value\n",
    "    hand.adjust_for_ace()"
   ]
  },
  {
   "cell_type": "markdown",
   "metadata": {},
   "source": [
    "**Step 8: Write a function prompting the Player to Hit or Stand**<br>\n",
    "This function should accept the deck and the player's hand as arguments, and assign playing as a global variable.<br>\n",
    "If the Player Hits, employ the hit() function above. If the Player Stands, set the playing variable to False - this will control the behavior of a <code>while</code> loop later on in our code."
   ]
  },
  {
   "cell_type": "code",
   "execution_count": null,
   "metadata": {},
   "outputs": [],
   "source": [
    "def hit_or_stand(deck,hand):\n",
    "    global playing # to control an upcoming while loop\n",
    "    \n",
    "    #Variable used to get the player choice\n",
    "    choice = None\n",
    "    \n",
    "    while True:\n",
    "        choice = input(\"Please pick either 'Hit' or 'Stand': \")\n",
    "        print()\n",
    "        if choice == \"Hit\" or choice == \"hit\" or choice == \"Stand\" or choice == \"stand\":\n",
    "            break\n",
    "    \n",
    "    if choice == \"Stand\" or choice == \"stand\":\n",
    "        playing = False\n",
    "    elif choice == \"Hit\" or choice == \"hit\":\n",
    "        hit(deck, hand)\n",
    "    "
   ]
  },
  {
   "cell_type": "markdown",
   "metadata": {},
   "source": [
    "**Step 9: Write functions to display cards**<br>\n",
    "When the game starts, and after each time Player takes a card, the dealer's first card is hidden and all of Player's cards are visible. At the end of the hand all cards are shown, and you may want to show each hand's total value. Write a function for each of these scenarios."
   ]
  },
  {
   "cell_type": "code",
   "execution_count": null,
   "metadata": {},
   "outputs": [],
   "source": [
    "def show_some(player,dealer):\n",
    "    \n",
    "    print(f\"Player's cards: {player.value}\")\n",
    "    for i in range(len(player.cards)):\n",
    "        print(f\"Card {i + 1}: {player.cards[i]}\")\n",
    "    \n",
    "    print(\"\\nDealer's cards: \")\n",
    "    for i in range(len(dealer.cards)):\n",
    "        if i == 0:\n",
    "            print(\"Card 1: Hidden\")\n",
    "        else:\n",
    "            print(f\"Card {i + 1}: {dealer.cards[i]}\")\n",
    "    print(\"----------------------------\")\n",
    "    \n",
    "def show_all(player,dealer):\n",
    "    \n",
    "    print(f\"Player's cards: {player.value}\")\n",
    "    for i in range(len(player.cards)):\n",
    "        print(f\"Card {i + 1}: {player.cards[i]}\")\n",
    "        \n",
    "    print(f\"\\nDealer's cards: {dealer.value}\")\n",
    "    for i in range(len(dealer.cards)):\n",
    "        print(f\"Card {i + 1}: {dealer.cards[i]}\")\n",
    "    print(\"----------------------------\")"
   ]
  },
  {
   "cell_type": "markdown",
   "metadata": {},
   "source": [
    "**Step 10: Write functions to handle end of game scenarios**<br>\n",
    "Remember to pass player's hand, dealer's hand and chips as needed."
   ]
  },
  {
   "cell_type": "code",
   "execution_count": null,
   "metadata": {},
   "outputs": [],
   "source": [
    "def player_busts(chips):\n",
    "    print(\"Player busts!\")\n",
    "    print(f\"Player has lost {chips.bet} chips!\")\n",
    "    chips.lose_bet()\n",
    "\n",
    "def player_wins(chips):\n",
    "    print(\"Player wins!\")\n",
    "    print(f\"Player has won {chips.bet} chips!\")\n",
    "    chips.win_bet()\n",
    "\n",
    "def dealer_busts(chips):\n",
    "    print(\"Dealer busts!\")\n",
    "    print(f\"Player has won {chips.bet} chips!\")\n",
    "    chips.win_bet()\n",
    "    \n",
    "def dealer_wins(chips):\n",
    "    print(\"Dealer wins!\")\n",
    "    print(f\"Player has lost {chips.bet} chips!\")\n",
    "    chips.lose_bet()\n",
    "    \n",
    "def push():\n",
    "    print(\"Player and Dealer tie!\")\n",
    "    print(\"No change in chips!\")"
   ]
  },
  {
   "cell_type": "markdown",
   "metadata": {},
   "source": [
    "#### And now on to the game!!"
   ]
  },
  {
   "cell_type": "code",
   "execution_count": null,
   "metadata": {},
   "outputs": [],
   "source": [
    "#Starts the player off with 100 chips\n",
    "num_chips = 100\n",
    "\n",
    "while True:\n",
    "    # Print an opening statement\n",
    "    print(\"Welcome to Alex Lott's Blackjack game!\\n\")\n",
    "    \n",
    "    playing = True\n",
    "    new_game = None\n",
    "    player_bust = False\n",
    "    \n",
    "    # Create & shuffle the deck, deal two cards to each player\n",
    "\n",
    "    deck = Deck()\n",
    "    deck.shuffle()\n",
    "    \n",
    "    player_hand = Hand()\n",
    "    dealer_hand = Hand()\n",
    "    \n",
    "    for i in range(2):\n",
    "        player_hand.add_card(deck.deal())\n",
    "        dealer_hand.add_card(deck.deal())\n",
    "    \n",
    "    # Set up the Player's chips\n",
    "    \n",
    "    player_chips = Chips(num_chips)\n",
    "    \n",
    "    # Prompt the Player for their bet\n",
    "\n",
    "    take_bet(player_chips)\n",
    "    print()\n",
    "    \n",
    "    # Show cards (but keep one dealer card hidden)\n",
    "\n",
    "    show_some(player_hand, dealer_hand)\n",
    "    \n",
    "    while playing:  # recall this variable from our hit_or_stand function\n",
    "        \n",
    "        # Prompt for Player to Hit or Stand\n",
    "        \n",
    "        hit_or_stand(deck, player_hand)\n",
    "        \n",
    "        # Show cards (but keep one dealer card hidden)\n",
    " \n",
    "        show_some(player_hand, dealer_hand)\n",
    "    \n",
    "        # If player's hand exceeds 21, run player_busts() and break out of loop\n",
    "        \n",
    "        if player_hand.value > 21:\n",
    "            player_hand.adjust_for_ace()\n",
    "            if player_hand.value > 21:\n",
    "                player_busts(player_chips)\n",
    "                player_bust = True\n",
    "                break\n",
    "            else:\n",
    "                print(\"Player's hand was adjusted!\")\n",
    "\n",
    "    \n",
    "    # If Player hasn't busted, play Dealer's hand until Dealer reaches 17\n",
    "    if player_bust == False:\n",
    "        while dealer_hand.value < 17:\n",
    "            dealer_hand.add_card(deck.deal())\n",
    "    \n",
    "            # Show all cards\n",
    "    \n",
    "            show_all(player_hand, dealer_hand)\n",
    "    \n",
    "        # Run different winning scenarios\n",
    "        \n",
    "        if player_hand.value > 21:\n",
    "            player_busts(player_chips)\n",
    "        elif dealer_hand.value > 21:\n",
    "            dealer_busts(player_chips)\n",
    "        elif player_hand.value > dealer_hand.value:\n",
    "            player_wins(player_chips)\n",
    "        elif player_hand.value < dealer_hand.value:\n",
    "            dealer_wins(player_chips)\n",
    "        else:\n",
    "            push()\n",
    "        \n",
    "    \n",
    "    # Inform Player of their chips total, and update\n",
    "    \n",
    "    print(f\"\\nThe player ended the game with {player_chips.total} chips!\")\n",
    "    num_chips = player_chips.total\n",
    "    \n",
    "    # Ask to play again\n",
    "    \n",
    "    while new_game != \"Y\" and new_game != \"y\" and new_game != \"N\" and new_game != \"n\":\n",
    "        new_game = input(\"Would you like to play again? (Y/N)\")\n",
    "        print()\n",
    "        \n",
    "    if new_game == \"N\" or new_game == \"n\":\n",
    "        break"
   ]
  },
  {
   "cell_type": "markdown",
   "metadata": {},
   "source": [
    "And that's it! Remember, these steps may differ significantly from your own solution. That's OK! Keep working on different sections of your program until you get the desired results. It takes a lot of time and patience!"
   ]
  },
  {
   "cell_type": "code",
   "execution_count": null,
   "metadata": {},
   "outputs": [],
   "source": []
  }
 ],
 "metadata": {
  "kernelspec": {
   "display_name": "Python 3",
   "language": "python",
   "name": "python3"
  },
  "language_info": {
   "codemirror_mode": {
    "name": "ipython",
    "version": 3
   },
   "file_extension": ".py",
   "mimetype": "text/x-python",
   "name": "python",
   "nbconvert_exporter": "python",
   "pygments_lexer": "ipython3",
   "version": "3.8.3"
  }
 },
 "nbformat": 4,
 "nbformat_minor": 4
}
